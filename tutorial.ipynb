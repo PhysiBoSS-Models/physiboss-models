{
 "cells": [
  {
   "cell_type": "code",
   "execution_count": 1,
   "id": "24d506ca-bc7e-403b-a898-6507be6d1076",
   "metadata": {
    "execution": {
     "iopub.execute_input": "2025-09-04T12:00:21.815164Z",
     "iopub.status.busy": "2025-09-04T12:00:21.815076Z",
     "iopub.status.idle": "2025-09-04T12:00:21.893243Z",
     "shell.execute_reply": "2025-09-04T12:00:21.892822Z",
     "shell.execute_reply.started": "2025-09-04T12:00:21.815154Z"
    }
   },
   "outputs": [],
   "source": [
    "import physiboss_models as pm\n",
    "import os"
   ]
  },
  {
   "cell_type": "markdown",
   "id": "2c2c6691",
   "metadata": {},
   "source": [
    "To use the PhysiBoSS-Models API, you first need to create the DataBase object."
   ]
  },
  {
   "cell_type": "code",
   "execution_count": 2,
   "id": "ebb71b39-46c4-4c17-96e2-f1f31214e55b",
   "metadata": {
    "execution": {
     "iopub.execute_input": "2025-09-04T12:00:21.893688Z",
     "iopub.status.busy": "2025-09-04T12:00:21.893552Z",
     "iopub.status.idle": "2025-09-04T12:00:24.643090Z",
     "shell.execute_reply": "2025-09-04T12:00:24.641504Z",
     "shell.execute_reply.started": "2025-09-04T12:00:21.893677Z"
    }
   },
   "outputs": [],
   "source": [
    "db = pm.Database()"
   ]
  },
  {
   "cell_type": "markdown",
   "id": "ff759602",
   "metadata": {},
   "source": [
    "Once created, you can call the all() method to list all the models"
   ]
  },
  {
   "cell_type": "code",
   "execution_count": 3,
   "id": "8e3620e1-0672-475c-a867-5bfd4bd35501",
   "metadata": {
    "execution": {
     "iopub.execute_input": "2025-09-04T12:00:24.645481Z",
     "iopub.status.busy": "2025-09-04T12:00:24.645140Z",
     "iopub.status.idle": "2025-09-04T12:00:24.650310Z",
     "shell.execute_reply": "2025-09-04T12:00:24.649404Z",
     "shell.execute_reply.started": "2025-09-04T12:00:24.645452Z"
    }
   },
   "outputs": [
    {
     "data": {
      "text/plain": [
       "['Invasion-Ruscone',\n",
       " 'PhysiBoSS-Tutorial',\n",
       " 'template-model',\n",
       " 'Montagud-Prostate']"
      ]
     },
     "execution_count": 3,
     "metadata": {},
     "output_type": "execute_result"
    }
   ],
   "source": [
    "models = db.all()\n",
    "models"
   ]
  },
  {
   "cell_type": "markdown",
   "id": "f037e128",
   "metadata": {},
   "source": [
    "Or you can search for a model using a keyword"
   ]
  },
  {
   "cell_type": "code",
   "execution_count": 4,
   "id": "0b592d6f-8e4d-496e-b4e4-320dee2633f9",
   "metadata": {},
   "outputs": [
    {
     "data": {
      "text/plain": [
       "['Invasion-Ruscone']"
      ]
     },
     "execution_count": 4,
     "metadata": {},
     "output_type": "execute_result"
    }
   ],
   "source": [
    "models = db.search(\"invasion\")\n",
    "models"
   ]
  },
  {
   "cell_type": "markdown",
   "id": "4f0c92ab",
   "metadata": {},
   "source": [
    "You can check the versions of a specific model"
   ]
  },
  {
   "cell_type": "code",
   "execution_count": 5,
   "id": "987770bf",
   "metadata": {},
   "outputs": [
    {
     "data": {
      "text/plain": [
       "['2.0.0', '1.0.0']"
      ]
     },
     "execution_count": 5,
     "metadata": {},
     "output_type": "execute_result"
    }
   ],
   "source": [
    "model_invasion = models[0]\n",
    "versions = db.versions(model_invasion)\n",
    "versions"
   ]
  },
  {
   "cell_type": "markdown",
   "id": "06ac775e",
   "metadata": {},
   "source": [
    "You can download a specific model. If no version is specified, the latest one is downloaded. "
   ]
  },
  {
   "cell_type": "code",
   "execution_count": 6,
   "id": "bd863ee4",
   "metadata": {},
   "outputs": [
    {
     "data": {
      "text/plain": [
       "['custom_modules',\n",
       " 'invasion_model',\n",
       " 'main.cpp',\n",
       " 'Makefile',\n",
       " 'config',\n",
       " 'model.yml']"
      ]
     },
     "execution_count": 6,
     "metadata": {},
     "output_type": "execute_result"
    }
   ],
   "source": [
    "os.mkdir(\"invasion_model\")\n",
    "db.download_model(model_invasion, \"./invasion_model\")\n",
    "\n",
    "os.listdir(\"invasion_model\")"
   ]
  },
  {
   "cell_type": "markdown",
   "id": "80ec88e4",
   "metadata": {},
   "source": [
    "Alternatively, you can chose a specific version"
   ]
  },
  {
   "cell_type": "code",
   "execution_count": 7,
   "id": "6551bec9",
   "metadata": {},
   "outputs": [
    {
     "data": {
      "text/plain": [
       "['custom_modules', 'myproj', 'main.cpp', 'Makefile', 'config', 'model.yml']"
      ]
     },
     "execution_count": 7,
     "metadata": {},
     "output_type": "execute_result"
    }
   ],
   "source": [
    "os.mkdir(\"original_invasion_model\")\n",
    "db.download_model(model_invasion, \"original_invasion_model\", version=\"1.0.0\")\n",
    "\n",
    "os.listdir(\"original_invasion_model\")"
   ]
  },
  {
   "cell_type": "code",
   "execution_count": 8,
   "id": "f5b5b6c6",
   "metadata": {},
   "outputs": [
    {
     "data": {
      "text/plain": [
       "{'short_name': 'invasion-ruscone',\n",
       " 'version': '1.0.0',\n",
       " 'binary': 'myproj',\n",
       " 'config': ['config/PhysiCell_settings.xml']}"
      ]
     },
     "execution_count": 8,
     "metadata": {},
     "output_type": "execute_result"
    }
   ],
   "source": [
    "db.current_model_info()"
   ]
  },
  {
   "cell_type": "code",
   "execution_count": null,
   "id": "9e6f82c7",
   "metadata": {},
   "outputs": [],
   "source": []
  }
 ],
 "metadata": {
  "kernelspec": {
   "display_name": "physiboss-models",
   "language": "python",
   "name": "python3"
  },
  "language_info": {
   "codemirror_mode": {
    "name": "ipython",
    "version": 3
   },
   "file_extension": ".py",
   "mimetype": "text/x-python",
   "name": "python",
   "nbconvert_exporter": "python",
   "pygments_lexer": "ipython3",
   "version": "3.13.7"
  }
 },
 "nbformat": 4,
 "nbformat_minor": 5
}
